{
 "cells": [
  {
   "cell_type": "code",
   "execution_count": null,
   "metadata": {},
   "outputs": [],
   "source": [
    "# from supervision.assets import download_assets, VideoAssets\n",
    "\n",
    "# download_assets(VideoAssets.VEHICLES)"
   ]
  },
  {
   "cell_type": "code",
   "execution_count": null,
   "metadata": {},
   "outputs": [],
   "source": [
    "from ultralytics import YOLO\n",
    "from ultralytics.solutions import speed_estimation\n",
    "import cv2"
   ]
  },
  {
   "cell_type": "code",
   "execution_count": null,
   "metadata": {},
   "outputs": [],
   "source": [
    "model = YOLO(\"yolov8m.yaml\")\n",
    "names = model.model.names"
   ]
  },
  {
   "cell_type": "code",
   "execution_count": null,
   "metadata": {},
   "outputs": [],
   "source": [
    "cap = cv2.VideoCapture(\"vehicles.mp4\")\n",
    "assert cap.isOpened()\n",
    "w,h,fps = (int(cap.get(x)) for x in (cv2.CAP_PROP_FRAME_WIDTH, cv2.CAP_PROP_FRAME_HEIGHT, cv2.CAP_PROP_FPS))\n",
    "video_writer = cv2.VideoWriter(\"speed_estimation.avi\",cv2.VideoWriter_fourcc(*'mp4v'),\n",
    "                               fps,\n",
    "                               (w,h))\n",
    "line_pts = [(0,h//2),(w,h//2)]\n",
    "speed_obj = speed_estimation.SpeedEstimator()\n",
    "speed_obj.set_args(reg_pts=line_pts,\n",
    "                   names=names,\n",
    "                   view_img=True)\n"
   ]
  },
  {
   "cell_type": "code",
   "execution_count": null,
   "metadata": {},
   "outputs": [],
   "source": [
    "while cap.isOpened():\n",
    "    success, im0 = cap.read()\n",
    "    if not success:\n",
    "        print(\"video frame is empty or not being read properly\")\n",
    "        break\n",
    "    tracks = model.track(im0, persist=True, show = False)\n",
    "    im0 = speed_obj.estimate_speed(im0, tracks)\n",
    "    video_writer.write(im0)\n",
    "cap.release()\n",
    "video_writer.release()\n",
    "cv2.destroyAllWindows()"
   ]
  },
  {
   "cell_type": "code",
   "execution_count": null,
   "metadata": {},
   "outputs": [],
   "source": [
    "from ultralytics import YOLO\n",
    "from ultralytics.solutions import speed_estimation\n",
    "import cv2\n",
    "import torch\n",
    "\n",
    "# torch.cuda.is_available = lambda : False\n",
    "# device = torch.device('cuda' if torch.cuda.is_available() else 'cpu')\n",
    "\n",
    "torch.cuda.set_device(0)\n",
    "model = YOLO(\"yolov8n.pt\")\n",
    "names = model.model.names\n",
    "\n",
    "cap = cv2.VideoCapture(\"vehicles.mp4\")\n",
    "assert cap.isOpened(), \"Error reading video file\"\n",
    "w, h, fps = (int(cap.get(x)) for x in (cv2.CAP_PROP_FRAME_WIDTH, \n",
    "cv2.CAP_PROP_FRAME_HEIGHT, cv2.CAP_PROP_FPS))\n",
    "\n",
    "# Video writer\n",
    "video_writer = cv2.VideoWriter(\"speed_estimation.avi\",\n",
    "                               cv2.VideoWriter_fourcc(*'mp4v'),\n",
    "                               fps,\n",
    "                               (w, h))\n",
    "\n",
    "line_pts = [(0, h//2), (w,h//2)]\n",
    "\n",
    "# Init speed-estimation obj\n",
    "speed_obj = speed_estimation.SpeedEstimator()\n",
    "speed_obj.set_args(reg_pts=line_pts,\n",
    "                   names=names,\n",
    "                   view_img=True)\n",
    "\n",
    "while cap.isOpened():\n",
    "\n",
    "    success, im0 = cap.read()\n",
    "    if not success:\n",
    "        print(\"Video frame is empty or video processing has been \\\n",
    "        successfully completed.\")\n",
    "        break\n",
    "\n",
    "    tracks = model.track(im0, persist=True, show=False)\n",
    "\n",
    "    im0 = speed_obj.estimate_speed(im0, tracks)\n",
    "    video_writer.write(im0)\n",
    "\n",
    "cap.release()\n",
    "video_writer.release()\n",
    "cv2.destroyAllWindows()"
   ]
  },
  {
   "cell_type": "code",
   "execution_count": null,
   "metadata": {},
   "outputs": [],
   "source": [
    "from ultralytics import YOLO\n",
    "from ultralytics.solutions import heatmap\n",
    "import cv2\n",
    "import torch\n",
    "\n",
    "\n",
    "torch.cuda.set_device(0)\n",
    "    \n",
    "model = YOLO(\"yolov8n.pt\")\n",
    "cap = cv2.VideoCapture(\"vehicles.mp4\")\n",
    "assert cap.isOpened(), \"Error reading video file\"\n",
    "w, h, fps = (int(cap.get(x)) for x in (cv2.CAP_PROP_FRAME_WIDTH, \n",
    "cv2.CAP_PROP_FRAME_HEIGHT, cv2.CAP_PROP_FPS))\n",
    "\n",
    "# Video writer\n",
    "video_writer = cv2.VideoWriter(\"heatmap_output.avi\",\n",
    "                               cv2.VideoWriter_fourcc(*'mp4v'),\n",
    "                               fps,\n",
    "                               (320,640))\n",
    "\n",
    "# Init heatmap\n",
    "heatmap_obj = heatmap.Heatmap()\n",
    "heatmap_obj.set_args(colormap=cv2.COLORMAP_PARULA,\n",
    "                     imw=w,\n",
    "                     imh=h,\n",
    "                     view_img=True,\n",
    "                     shape=\"circle\")\n",
    "\n",
    "while cap.isOpened():\n",
    "    success, im0 = cap.read()\n",
    "    if not success:\n",
    "        print(\"Video frame is empty or video processing has \\\n",
    "                been successfully completed.\")\n",
    "        break\n",
    "    tracks = model.track(im0, persist=True, show=False)\n",
    "\n",
    "    im0 = heatmap_obj.generate_heatmap(im0, tracks)\n",
    "    video_writer.write(im0)\n",
    "\n",
    "cap.release()\n",
    "video_writer.release()\n",
    "cv2.destroyAllWindows()"
   ]
  },
  {
   "cell_type": "code",
   "execution_count": null,
   "metadata": {},
   "outputs": [],
   "source": []
  }
 ],
 "metadata": {
  "kernelspec": {
   "display_name": "yolov8",
   "language": "python",
   "name": "python3"
  },
  "language_info": {
   "codemirror_mode": {
    "name": "ipython",
    "version": 3
   },
   "file_extension": ".py",
   "mimetype": "text/x-python",
   "name": "python",
   "nbconvert_exporter": "python",
   "pygments_lexer": "ipython3",
   "version": "3.10.13"
  }
 },
 "nbformat": 4,
 "nbformat_minor": 2
}
